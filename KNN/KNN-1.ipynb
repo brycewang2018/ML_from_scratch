{
 "cells": [
  {
   "cell_type": "markdown",
   "id": "663730e6-5d72-4d5c-a5c2-0c24555117e1",
   "metadata": {},
   "source": [
    "## Implement KNN in Python from Scratch "
   ]
  },
  {
   "cell_type": "code",
   "execution_count": 7,
   "id": "d2e0e523-3a1b-4cf1-ae53-b93559dcec99",
   "metadata": {},
   "outputs": [],
   "source": [
    "from collections import Counter\n",
    "import numpy as np\n",
    "\n",
    "## Define the knn function \n",
    "def knn(X_train, y_train, X_test, k):\n",
    "    \"\"\"\n",
    "    KNN function that takes in four parameters:\n",
    "    X_train - training features\n",
    "    y_train - training labels\n",
    "    X_test - test features\n",
    "    k - number of nearest neighbors to consider\n",
    "    \n",
    "    Returns a numpy array of predicted labels for the test set.\n",
    "    \"\"\"\n",
    "    # Create a list to store predicted labels\n",
    "    y_pred = []\n",
    "    \n",
    "    for i in range(len(X_test)):\n",
    "        # Calculate the Euclidean distance between the test point and all points in the training set\n",
    "        distances = np.sqrt(np.sum((X_train - X_test[i])**2, axis=1))\n",
    "        \n",
    "        # Get the indices of the k nearest neighbors\n",
    "        nearest_neighbors = np.argsort(distances)[:k]\n",
    "        \n",
    "        # Get the labels of the k nearest neighbors\n",
    "        labels = y_train[nearest_neighbors]\n",
    "        \n",
    "        # Get the most common label among the nearest neighbors\n",
    "        most_common_label = Counter(labels).most_common(1)[0][0]\n",
    "        \n",
    "        # Append the predicted label to the list\n",
    "        y_pred.append(most_common_label)\n",
    "    \n",
    "    # Convert the list to a numpy array and return it\n",
    "    return np.array(y_pred)"
   ]
  },
  {
   "cell_type": "code",
   "execution_count": 8,
   "id": "4161fc45-ccea-4189-a037-ff0b0cf61816",
   "metadata": {},
   "outputs": [
    {
     "name": "stdout",
     "output_type": "stream",
     "text": [
      "[0 1 0 1]\n"
     ]
    }
   ],
   "source": [
    "## Sample dataset\n",
    "X_train = np.array([[1, 2], [2, 1], [3, 4], [4, 3]])\n",
    "y_train = np.array([0, 0, 1, 1])\n",
    "X_test = np.array([[1, 1], [3, 3], [2, 3], [4, 3]])\n",
    "\n",
    "## Apply the KNN function with k=1\n",
    "y_pred = knn(X_train, y_train, X_test, 1)\n",
    "\n",
    "## Print the predicted labels\n",
    "print(y_pred)"
   ]
  },
  {
   "cell_type": "code",
   "execution_count": 9,
   "id": "a651be22-9b85-4b9f-90f4-1130e036ee15",
   "metadata": {},
   "outputs": [
    {
     "name": "stdout",
     "output_type": "stream",
     "text": [
      "[0 1 0 1]\n"
     ]
    }
   ],
   "source": [
    "## Apply the KNN function with k=2\n",
    "y_pred = knn(X_train, y_train, X_test, 2)\n",
    "\n",
    "## Print the predicted labels\n",
    "print(y_pred)"
   ]
  },
  {
   "cell_type": "code",
   "execution_count": 10,
   "id": "43982045-caeb-47c6-90df-23ebe629ffb1",
   "metadata": {},
   "outputs": [
    {
     "name": "stdout",
     "output_type": "stream",
     "text": [
      "[0 1 0 1]\n"
     ]
    }
   ],
   "source": [
    "## Apply the KNN function with k=10\n",
    "y_pred = knn(X_train, y_train, X_test, 10)\n",
    "\n",
    "## Print the predicted labels\n",
    "print(y_pred)"
   ]
  },
  {
   "cell_type": "code",
   "execution_count": null,
   "id": "39754584-4488-4133-9078-1dd5b1289de0",
   "metadata": {},
   "outputs": [],
   "source": []
  }
 ],
 "metadata": {
  "kernelspec": {
   "display_name": "Python 3 (ipykernel)",
   "language": "python",
   "name": "python3"
  },
  "language_info": {
   "codemirror_mode": {
    "name": "ipython",
    "version": 3
   },
   "file_extension": ".py",
   "mimetype": "text/x-python",
   "name": "python",
   "nbconvert_exporter": "python",
   "pygments_lexer": "ipython3",
   "version": "3.10.6"
  }
 },
 "nbformat": 4,
 "nbformat_minor": 5
}
