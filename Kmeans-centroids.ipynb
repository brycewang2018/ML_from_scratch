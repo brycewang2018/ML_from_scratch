{
  "nbformat": 4,
  "nbformat_minor": 0,
  "metadata": {
    "colab": {
      "provenance": []
    },
    "kernelspec": {
      "name": "python3",
      "display_name": "Python 3"
    },
    "language_info": {
      "name": "python"
    }
  },
  "cells": [
    {
      "cell_type": "code",
      "execution_count": 5,
      "metadata": {
        "colab": {
          "base_uri": "https://localhost:8080/"
        },
        "id": "dT0XvzfnmZXU",
        "outputId": "36cd2537-1cfe-4d22-b28a-1d9831ee9d23"
      },
      "outputs": [
        {
          "output_type": "stream",
          "name": "stdout",
          "text": [
            "Iteration 1 centroids: [[5.006      3.428      1.462      0.246     ]\n",
            " [6.85       3.07368421 5.74210526 2.07105263]\n",
            " [5.9016129  2.7483871  4.39354839 1.43387097]]\n",
            "Iteration 2 centroids: [[5.006      3.428      1.462      0.246     ]\n",
            " [6.85       3.07368421 5.74210526 2.07105263]\n",
            " [5.9016129  2.7483871  4.39354839 1.43387097]]\n",
            "Converged!\n"
          ]
        },
        {
          "output_type": "stream",
          "name": "stderr",
          "text": [
            "/usr/local/lib/python3.10/dist-packages/sklearn/cluster/_kmeans.py:870: FutureWarning: The default value of `n_init` will change from 10 to 'auto' in 1.4. Set the value of `n_init` explicitly to suppress the warning\n",
            "  warnings.warn(\n",
            "/usr/local/lib/python3.10/dist-packages/sklearn/cluster/_kmeans.py:870: FutureWarning: The default value of `n_init` will change from 10 to 'auto' in 1.4. Set the value of `n_init` explicitly to suppress the warning\n",
            "  warnings.warn(\n"
          ]
        }
      ],
      "source": [
        "import numpy as np\n",
        "from sklearn.cluster import KMeans\n",
        "from sklearn.datasets import load_iris\n",
        "\n",
        "# Load the iris dataset\n",
        "iris = load_iris()\n",
        "X = iris.data\n",
        "\n",
        "# Set the number of clusters\n",
        "k = 3\n",
        "\n",
        "\n",
        "\n",
        "# Initialize the centroids\n",
        "centroids = [0, 0, 0, 0]\n",
        "\n",
        "# Iterate until convergence\n",
        "for i in range(5):\n",
        "    # Fit the model to the data\n",
        "    kmeans.fit(X)\n",
        "\n",
        "    # Get the centroids for the current iteration\n",
        "    new_centroids = kmeans.cluster_centers_\n",
        "\n",
        "    # Print the centroids for the current iteration\n",
        "    print(\"Iteration\", i+1, \"centroids:\", new_centroids)\n",
        "\n",
        "    # Check for convergence\n",
        "    if np.allclose(new_centroids, centroids):\n",
        "        print(\"Converged!\")\n",
        "        break\n",
        "\n",
        "    # Update the centroids for the next iteration\n",
        "    centroids = new_centroids"
      ]
    },
    {
      "cell_type": "code",
      "source": [
        "import numpy as np\n",
        "from sklearn.cluster import MiniBatchKMeans\n",
        "from sklearn.datasets import load_iris\n",
        "\n",
        "# Load the iris dataset\n",
        "iris = load_iris()\n",
        "\n",
        "# Set the number of clusters\n",
        "k = 3\n",
        "\n",
        "# Initialize the K-Means model\n",
        "kmeans = MiniBatchKMeans(n_clusters=k, random_state=0, batch_size=10)\n",
        "\n",
        "# Iterate over the data in chunks\n",
        "for i in range(0, iris.data.shape[0], 10):\n",
        "    X_batch = iris.data[i:i+10]\n",
        "\n",
        "    # Fit the model to the current batch\n",
        "    kmeans.partial_fit(X_batch)\n",
        "\n",
        "# Print the centroids\n",
        "print(\"Centroids:\", kmeans.cluster_centers_)\n"
      ],
      "metadata": {
        "colab": {
          "base_uri": "https://localhost:8080/"
        },
        "id": "HnKu5c-4mbPT",
        "outputId": "d880a38e-008f-43b3-d953-b983ee6fa701"
      },
      "execution_count": 6,
      "outputs": [
        {
          "output_type": "stream",
          "name": "stdout",
          "text": [
            "Centroids: [[6.16548673 3.01681416 4.45752212 1.49026549]\n",
            " [4.4        2.88       1.28       0.2       ]\n",
            " [4.93125    3.228125   1.675      0.328125  ]]\n"
          ]
        },
        {
          "output_type": "stream",
          "name": "stderr",
          "text": [
            "/usr/local/lib/python3.10/dist-packages/sklearn/cluster/_kmeans.py:870: FutureWarning: The default value of `n_init` will change from 3 to 'auto' in 1.4. Set the value of `n_init` explicitly to suppress the warning\n",
            "  warnings.warn(\n"
          ]
        }
      ]
    },
    {
      "cell_type": "code",
      "source": [],
      "metadata": {
        "id": "w9H2U3XNq1hW"
      },
      "execution_count": null,
      "outputs": []
    }
  ]
}